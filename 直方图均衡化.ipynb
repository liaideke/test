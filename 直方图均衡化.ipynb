import cv2
import numpy as np
import matplotlib.pyplot as plt
%matplotlib inline
img = cv2.imread('women.jpg')
cv2.imshow('img', img)
h,w,c = img.shape
gray = cv2.cvtColor(img, cv2.COLOR_BGR2GRAY)
count = np.zeros(256,np.float)
for i in range(h):
    for j in range(w):
        pixel = gray[i,j]
        index = int(pixel)
        count[index] = count[index]+1
x = np.linspace(0,255,256)
plt.bar(x, count,color = 'b')
plt.show()
for i in range(255):
    count[i] = count[i]/(h*w)
#计算每个像素累计概率
sumcount=np.cumsum(count)


map1 = np.zeros(256,np.uint16)
#求均衡化后的灰度等级，并于归一化之前一致
for i in range(0,256):
    map1[i] = np.uint16(sumcount[i]*255)

# 映射
for i in range(h):
    for j in range(w):
        pixel = gray[i,j]
        gray[i,j] = map1[pixel]
plt.bar(x, map1,color = 'b')
plt.show()
cv2.imshow('gray', gray)
cv2.waitKey(0)
